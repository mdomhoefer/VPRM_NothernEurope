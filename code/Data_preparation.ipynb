{
 "cells": [
  {
   "cell_type": "code",
   "execution_count": 16,
   "id": "5a5476f1-4921-4a0a-b338-a161d8060802",
   "metadata": {},
   "outputs": [],
   "source": [
    "import csv\n",
    "import pandas as pd\n",
    "import os\n",
    "from datetime import datetime"
   ]
  },
  {
   "cell_type": "code",
   "execution_count": 17,
   "id": "1b063404-827e-4033-a5a1-b3acf851d25b",
   "metadata": {},
   "outputs": [
    {
     "data": {
      "text/plain": [
       "'/data/co2flux/common/mdomhoef/Oslo/Oslo_analysis'"
      ]
     },
     "execution_count": 17,
     "metadata": {},
     "output_type": "execute_result"
    }
   ],
   "source": [
    "cwd = os.getcwd()\n",
    "cwd"
   ]
  },
  {
   "cell_type": "code",
   "execution_count": 18,
   "id": "4a91809a-837f-4abc-8cec-65acc12470f0",
   "metadata": {},
   "outputs": [],
   "source": [
    "cwd = '/data/co2flux/common/mdomhoef/Oslo/Oslo_analysis/'"
   ]
  },
  {
   "cell_type": "code",
   "execution_count": 19,
   "id": "ccacd6ad-6037-4c55-9f2a-ee5f351d0c91",
   "metadata": {},
   "outputs": [],
   "source": [
    "def get_columns(file):\n",
    "    df = []\n",
    "    my_cols = []\n",
    "    with open(file, 'rt') as fin:\n",
    "        csvin = csv.reader(fin)\n",
    "        df.extend(next(csvin, []))\n",
    "    my_cols = [col for col in df if col.startswith('TS_F_MDS')]\n",
    "    my_cols.extend(['TIMESTAMP_START', 'TIMESTAMP_END', 'TA_F_MDS', 'TA_F_MDS_QC', 'SW_IN_F_MDS', 'VPD_F_MDS',\n",
    "           'TA_F', 'TA_F_QC', 'SW_IN_F', 'VPD_F',\n",
    "            'NEE_VUT_REF', 'NEE_VUT_REF_QC', 'RECO_NT_VUT_REF', 'RECO_DT_VUT_REF', \n",
    "           'GPP_NT_VUT_REF', 'GPP_DT_VUT_REF'])\n",
    "    return my_cols"
   ]
  },
  {
   "cell_type": "code",
   "execution_count": 20,
   "id": "d3c5ab0b-5d24-4dd9-82d3-ce2e32993975",
   "metadata": {},
   "outputs": [],
   "source": [
    "# file1 = cwd +\"/data/HH_Data/\"+'FLX_DK-Eng_FLUXNET2015_SUBSET_HH_2005-2008_1-4.csv'\n",
    "# df = pd.read_csv(file1, usecols=lambda c: c in get_columns(file1))\n",
    "# df.columns\n",
    "\n",
    "#df = pd.read_csv(file, usecols=lambda x: x not in columns_to_skip )"
   ]
  },
  {
   "cell_type": "code",
   "execution_count": 21,
   "id": "e649ffe7-e724-446a-820f-14fc6ef6ae10",
   "metadata": {},
   "outputs": [
    {
     "name": "stdout",
     "output_type": "stream",
     "text": [
      "/data/co2flux/common/mdomhoef/Oslo/Oslo_analysis//data/HH_DATA/FLX_FI-Hyy_FLUXNET2015_FULLSET_HH_1996-2020_beta-3.csv\n",
      "438336\n",
      "/data/co2flux/common/mdomhoef/Oslo/Oslo_analysis//data/HH_DATA/FLX_DK-Gds_FLUXNET2015_FULLSET_HH_2020-2020_beta-3.csv\n",
      "17568\n",
      "/data/co2flux/common/mdomhoef/Oslo/Oslo_analysis//data/HH_DATA/FLX_SE-Ros_FLUXNET2015_FULLSET_HH_2014-2020_beta-3.csv\n",
      "122736\n",
      "/data/co2flux/common/mdomhoef/Oslo/Oslo_analysis//data/HH_DATA/FLX_FI-Let_FLUXNET2015_FULLSET_HH_2009-2020_beta-3.csv\n",
      "210384\n",
      "/data/co2flux/common/mdomhoef/Oslo/Oslo_analysis//data/HH_DATA/FLX_SE-Htm_FLUXNET2015_FULLSET_HH_2015-2020_beta-3.csv\n",
      "105216\n",
      "/data/co2flux/common/mdomhoef/Oslo/Oslo_analysis//data/HH_DATA/FLX_FI-Qvd_FLUXNET2015_FULLSET_HH_2018-2020_beta-3.csv\n",
      "52608\n",
      "/data/co2flux/common/mdomhoef/Oslo/Oslo_analysis//data/HH_DATA/FLX_SE-Svb_FLUXNET2015_FULLSET_HH_2014-2020_beta-3.csv\n",
      "122736\n",
      "/data/co2flux/common/mdomhoef/Oslo/Oslo_analysis//data/HH_DATA/FLX_SE-Nor_FLUXNET2015_FULLSET_HH_2014-2020_beta-3.csv\n",
      "122736\n",
      "/data/co2flux/common/mdomhoef/Oslo/Oslo_analysis//data/HH_DATA/FLX_SE-Deg_FLUXNET2015_FULLSET_HH_2001-2020_beta-3.csv\n",
      "350640\n"
     ]
    }
   ],
   "source": [
    "###To create smaller csv files \n",
    "\n",
    "files = os.listdir(cwd +\"data/HH_DATA/\")\n",
    "\n",
    "for f in files:\n",
    "    if(f.startswith('F')):\n",
    "        file1 = cwd +\"/data/HH_DATA/\"+f\n",
    "        print(file1)\n",
    "        df = pd.read_csv(file1, usecols=lambda c: c in get_columns(file1))\n",
    "        os.remove(file1)\n",
    "        df['date'] =  pd.to_datetime(df['TIMESTAMP_START'], format ='%Y%m%d%H%M')\n",
    "        #df.loc[df['NEE_VUT_REF_RANDUNC'] == -9999.0, 'test'] = np.nan\n",
    "        path = 'data/HH_Data_small/new_' + f\n",
    "        # path0 = 'data/new0_' + f\n",
    "        # path1 = 'data/new1_' + f\n",
    "\n",
    "        print(df.shape[0])\n",
    "        df.to_csv(path)\n",
    "        # df.iloc[:, :int(df.shape[0]/2)].to_csv(path0)\n",
    "        # df.iloc[:, int(df.shape[0]/2):].to_csv(path1)\n",
    "\n",
    "        # df.iloc[0:0]"
   ]
  },
  {
   "cell_type": "code",
   "execution_count": null,
   "id": "f22fd2c3-8c18-45ac-8c0e-60c58630bf6e",
   "metadata": {},
   "outputs": [],
   "source": []
  }
 ],
 "metadata": {
  "kernelspec": {
   "display_name": "env_kernel",
   "language": "python",
   "name": "env_kernel"
  },
  "language_info": {
   "codemirror_mode": {
    "name": "ipython",
    "version": 3
   },
   "file_extension": ".py",
   "mimetype": "text/x-python",
   "name": "python",
   "nbconvert_exporter": "python",
   "pygments_lexer": "ipython3",
   "version": "3.7.11"
  }
 },
 "nbformat": 4,
 "nbformat_minor": 5
}
