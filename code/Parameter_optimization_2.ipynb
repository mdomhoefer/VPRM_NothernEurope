{
 "cells": [
  {
   "cell_type": "markdown",
   "id": "d60331ec-6c7a-4031-9b9d-039a318395ef",
   "metadata": {},
   "source": [
    "### Optimize params with other scipy methods"
   ]
  },
  {
   "cell_type": "code",
   "execution_count": 51,
   "id": "87e3c0d5-e031-4137-a3a8-3008ebba74c5",
   "metadata": {},
   "outputs": [],
   "source": [
    "import pandas as pd\n",
    "import numpy as np\n",
    "from scipy.optimize import least_squares\n",
    "import Functions\n",
    "%run Functions.py\n",
    "cwd = '/data/co2flux/common/mdomhoef/Oslo/Oslo_analysis/'\n",
    "StationDataPath = cwd + 'data/HH_Data_small/'\n",
    "year = 2017 \n",
    "years = [2017, 2018, 2019, 2020]"
   ]
  },
  {
   "cell_type": "markdown",
   "id": "7ae55517-451e-4868-86dc-7f07086a2e5a",
   "metadata": {},
   "source": [
    "### 1. All seasons "
   ]
  },
  {
   "cell_type": "code",
   "execution_count": 7,
   "id": "0f8e4d23-09b6-4ea5-8d33-159b3a870f80",
   "metadata": {},
   "outputs": [
    {
     "data": {
      "text/html": [
       "<div>\n",
       "<style scoped>\n",
       "    .dataframe tbody tr th:only-of-type {\n",
       "        vertical-align: middle;\n",
       "    }\n",
       "\n",
       "    .dataframe tbody tr th {\n",
       "        vertical-align: top;\n",
       "    }\n",
       "\n",
       "    .dataframe thead th {\n",
       "        text-align: right;\n",
       "    }\n",
       "</style>\n",
       "<table border=\"1\" class=\"dataframe\">\n",
       "  <thead>\n",
       "    <tr style=\"text-align: right;\">\n",
       "      <th></th>\n",
       "      <th>lambdaGPP</th>\n",
       "      <th>radZero</th>\n",
       "      <th>alpha</th>\n",
       "      <th>beta</th>\n",
       "      <th>Tmin</th>\n",
       "      <th>Tmax</th>\n",
       "      <th>Topt</th>\n",
       "      <th>Station</th>\n",
       "      <th>iveg</th>\n",
       "    </tr>\n",
       "    <tr>\n",
       "      <th>Station</th>\n",
       "      <th></th>\n",
       "      <th></th>\n",
       "      <th></th>\n",
       "      <th></th>\n",
       "      <th></th>\n",
       "      <th></th>\n",
       "      <th></th>\n",
       "      <th></th>\n",
       "      <th></th>\n",
       "    </tr>\n",
       "  </thead>\n",
       "  <tbody>\n",
       "    <tr>\n",
       "      <th>FI-Hyy</th>\n",
       "      <td>0.35</td>\n",
       "      <td>220.0</td>\n",
       "      <td>0.2</td>\n",
       "      <td>0.4</td>\n",
       "      <td>1.0</td>\n",
       "      <td>40.2</td>\n",
       "      <td>19.8</td>\n",
       "      <td>FI-Hyy</td>\n",
       "      <td>0</td>\n",
       "    </tr>\n",
       "    <tr>\n",
       "      <th>FI-Let</th>\n",
       "      <td>0.40</td>\n",
       "      <td>130.0</td>\n",
       "      <td>0.1</td>\n",
       "      <td>0.8</td>\n",
       "      <td>0.6</td>\n",
       "      <td>39.0</td>\n",
       "      <td>21.0</td>\n",
       "      <td>FI-Let</td>\n",
       "      <td>0</td>\n",
       "    </tr>\n",
       "    <tr>\n",
       "      <th>SE-Lnn</th>\n",
       "      <td>0.45</td>\n",
       "      <td>250.0</td>\n",
       "      <td>0.1</td>\n",
       "      <td>0.2</td>\n",
       "      <td>1.0</td>\n",
       "      <td>39.0</td>\n",
       "      <td>21.0</td>\n",
       "      <td>SE-Lnn</td>\n",
       "      <td>5</td>\n",
       "    </tr>\n",
       "    <tr>\n",
       "      <th>SE-Ros</th>\n",
       "      <td>0.35</td>\n",
       "      <td>220.0</td>\n",
       "      <td>0.2</td>\n",
       "      <td>0.2</td>\n",
       "      <td>1.0</td>\n",
       "      <td>39.0</td>\n",
       "      <td>19.4</td>\n",
       "      <td>SE-Ros</td>\n",
       "      <td>0</td>\n",
       "    </tr>\n",
       "    <tr>\n",
       "      <th>SE-Deg</th>\n",
       "      <td>0.20</td>\n",
       "      <td>100.0</td>\n",
       "      <td>0.1</td>\n",
       "      <td>0.0</td>\n",
       "      <td>0.6</td>\n",
       "      <td>40.2</td>\n",
       "      <td>21.0</td>\n",
       "      <td>SE-Deg</td>\n",
       "      <td>6</td>\n",
       "    </tr>\n",
       "    <tr>\n",
       "      <th>SE-Htm</th>\n",
       "      <td>0.45</td>\n",
       "      <td>250.0</td>\n",
       "      <td>0.1</td>\n",
       "      <td>0.8</td>\n",
       "      <td>-0.6</td>\n",
       "      <td>40.6</td>\n",
       "      <td>19.0</td>\n",
       "      <td>SE-Htm</td>\n",
       "      <td>0</td>\n",
       "    </tr>\n",
       "    <tr>\n",
       "      <th>SE-Nor</th>\n",
       "      <td>0.30</td>\n",
       "      <td>250.0</td>\n",
       "      <td>0.2</td>\n",
       "      <td>1.0</td>\n",
       "      <td>1.0</td>\n",
       "      <td>39.8</td>\n",
       "      <td>20.6</td>\n",
       "      <td>SE-Nor</td>\n",
       "      <td>0</td>\n",
       "    </tr>\n",
       "  </tbody>\n",
       "</table>\n",
       "</div>"
      ],
      "text/plain": [
       "         lambdaGPP  radZero  alpha  beta  Tmin  Tmax  Topt Station  iveg\n",
       "Station                                                                 \n",
       "FI-Hyy        0.35    220.0    0.2   0.4   1.0  40.2  19.8  FI-Hyy     0\n",
       "FI-Let        0.40    130.0    0.1   0.8   0.6  39.0  21.0  FI-Let     0\n",
       "SE-Lnn        0.45    250.0    0.1   0.2   1.0  39.0  21.0  SE-Lnn     5\n",
       "SE-Ros        0.35    220.0    0.2   0.2   1.0  39.0  19.4  SE-Ros     0\n",
       "SE-Deg        0.20    100.0    0.1   0.0   0.6  40.2  21.0  SE-Deg     6\n",
       "SE-Htm        0.45    250.0    0.1   0.8  -0.6  40.6  19.0  SE-Htm     0\n",
       "SE-Nor        0.30    250.0    0.2   1.0   1.0  39.8  20.6  SE-Nor     0"
      ]
     },
     "execution_count": 7,
     "metadata": {},
     "output_type": "execute_result"
    }
   ],
   "source": [
    "# least_squares(fun, x0,  method='lm')\n",
    "# fun = function, x0 = morris, bounds=(- inf, inf) (non obligatory), ‘lm’ : Levenberg-Marquardt algorithm as implemented in MINPACK.\n",
    "morris_params = pd.read_csv('Oslo_analysis/VPRMoutput/best_fit_morris_'+str(year)+'.csv', header = None)\n",
    "col_list = ['lambdaGPP', 'radZero', 'alpha', 'beta', 'Tmin', 'Tmax', 'Topt', 'Station', 'iveg']\n",
    "morris_params.columns = col_list\n",
    "morris_params.index = morris_params.Station\n",
    "morris_params"
   ]
  },
  {
   "cell_type": "markdown",
   "id": "0267d1b6-844a-4df1-b016-16c52298ef7b",
   "metadata": {},
   "source": [
    "#### 1.1 For one station"
   ]
  },
  {
   "cell_type": "code",
   "execution_count": 8,
   "id": "c793d3a9-fd4c-40e6-b371-ea858f1499a3",
   "metadata": {},
   "outputs": [],
   "source": [
    "snames = ['FI-Hyy']\n",
    "stations, snames = get_stations_year(year)\n",
    "for sitename in snames:\n",
    "    df = get_station_observation_year(StationDataPath, sitename, year)\n"
   ]
  },
  {
   "cell_type": "code",
   "execution_count": 20,
   "id": "911b2705-0834-423c-84b2-2d48071d7bfe",
   "metadata": {},
   "outputs": [],
   "source": [
    "a = morris_params.loc[sitename]['alpha']\n",
    "a = pd.to_numeric(a)\n",
    "b = morris_params.loc[sitename]['beta']\n",
    "b = pd.to_numeric(b)\n",
    "t = pd.to_numeric(df['TA_F'], errors='coerce')"
   ]
  },
  {
   "cell_type": "code",
   "execution_count": 16,
   "id": "95d6f013-f80f-4719-98fb-add16cd266c6",
   "metadata": {},
   "outputs": [
    {
     "name": "stdout",
     "output_type": "stream",
     "text": [
      "Status : The maximum number of function evaluations is exceeded.\n",
      "Total Evaluations: 200\n",
      "Solution: f([0.24134903 1.5213031 ]) = 220.83691\n"
     ]
    }
   ],
   "source": [
    "# define the bounds on the search\n",
    "temp = df['TA_F'].tolist()\n",
    "resp = df['RECO_DT_VUT_REF'].tolist()\n",
    "x0 = np.array([a,b])\n",
    "# perform the differential evolution search\n",
    "result = least_squares(func_reco, x0,args = (temp,resp,))\n",
    "# summarize the result\n",
    "print('Status : %s' % result['message'])\n",
    "print('Total Evaluations: %d' % result['nfev'])\n",
    "# evaluate solution\n",
    "solution = result['x']\n",
    "evaluation = func_reco(solution, temp, resp)\n",
    "print('Solution: f(%s) = %.5f' % (solution, evaluation))"
   ]
  },
  {
   "cell_type": "code",
   "execution_count": 37,
   "id": "d190c6ea-945b-41d0-84c9-6dfb4b6cf25d",
   "metadata": {},
   "outputs": [],
   "source": [
    "pred_morr = reco(a,b,t)"
   ]
  },
  {
   "cell_type": "code",
   "execution_count": 46,
   "id": "d5418334-57af-468b-a16e-89b0d9631c8b",
   "metadata": {},
   "outputs": [],
   "source": [
    "pred_ls = reco(solution[0], solution[1],t) "
   ]
  },
  {
   "cell_type": "code",
   "execution_count": 45,
   "id": "662651d8-915c-40b5-a79b-5a24ea5ab7c7",
   "metadata": {},
   "outputs": [
    {
     "name": "stdout",
     "output_type": "stream",
     "text": [
      "Index(['RECO_morr', 'RECO_ls', 'date', 'RECO_DT_VUT_REF'], dtype='object')\n"
     ]
    },
    {
     "data": {
      "text/plain": [
       "<AxesSubplot:xlabel='date'>"
      ]
     },
     "execution_count": 45,
     "metadata": {},
     "output_type": "execute_result"
    },
    {
     "data": {
      "image/png": "[encoded data removed]",
      "text/plain": [
       "<Figure size 432x288 with 1 Axes>"
      ]
     },
     "metadata": {
      "needs_background": "light"
     },
     "output_type": "display_data"
    }
   ],
   "source": [
    "df_c = pd.concat([pred_morr.rename('RECO_morr'), pred_ls.rename('RECO_ls'), df[['date','RECO_DT_VUT_REF']]], axis = 1)\n",
    "print(df_c.columns)\n",
    "df_c.plot(x = 'date')"
   ]
  },
  {
   "cell_type": "code",
   "execution_count": 48,
   "id": "0d9699da-c063-450f-a37b-109f109fc3e0",
   "metadata": {},
   "outputs": [
    {
     "data": {
      "text/plain": [
       "1.668417028406375"
      ]
     },
     "execution_count": 48,
     "metadata": {},
     "output_type": "execute_result"
    }
   ],
   "source": [
    "rmse = m_rmse(df_c['RECO_DT_VUT_REF'], pred_ls)#df_c['RECO_Pred'])\n",
    "rmse"
   ]
  },
  {
   "cell_type": "code",
   "execution_count": 49,
   "id": "3443d509-8314-40a4-ae41-a481051830bb",
   "metadata": {},
   "outputs": [
    {
     "data": {
      "text/plain": [
       "1.8845401647526614"
      ]
     },
     "execution_count": 49,
     "metadata": {},
     "output_type": "execute_result"
    }
   ],
   "source": [
    "rmse = m_rmse(df_c['RECO_DT_VUT_REF'], pred_morr)#df_c['RECO_Pred'])\n",
    "rmse"
   ]
  },
  {
   "cell_type": "markdown",
   "id": "26eb07c3-c1af-44aa-b216-b7c96ba8fdd4",
   "metadata": {},
   "source": [
    "#### 1.2 For all stations for all years "
   ]
  },
  {
   "cell_type": "code",
   "execution_count": 53,
   "id": "4c91a39d-5228-49c0-bcc9-a129c9dae1f3",
   "metadata": {},
   "outputs": [],
   "source": [
    "for year in years: \n",
    "    stations, snames = get_stations_year(year)\n",
    "    df_params_new = pd.DataFrame(index = snames, columns = ['new_RMSE_ls', 'alpha_ls', 'beta_ls'])\n",
    "    \n",
    "    morris_params = pd.read_csv('Oslo_analysis/VPRMoutput/best_fit_morris_'+str(year)+'.csv', header = None)\n",
    "    col_list = ['lambdaGPP', 'radZero', 'alpha', 'beta', 'Tmin', 'Tmax', 'Topt', 'Station', 'iveg']\n",
    "    morris_params.columns = col_list\n",
    "    morris_params.index = morris_params.Station\n",
    "    morris_params\n",
    "\n",
    "    for sitename in snames:\n",
    "        df = get_station_observation_year(StationDataPath, sitename, year)\n",
    "        a = morris_params.loc[sitename]['alpha']\n",
    "        a = pd.to_numeric(a)\n",
    "        b = morris_params.loc[sitename]['beta']\n",
    "        b = pd.to_numeric(b)\n",
    "        t = pd.to_numeric(df['TA_F'], errors='coerce')\n",
    "\n",
    "        temp = df['TA_F'].tolist()\n",
    "        resp = df['RECO_DT_VUT_REF'].tolist()\n",
    "        x0 = np.array([a,b])\n",
    "        result = least_squares(func_reco, x0,args = (temp,resp,))\n",
    "        \n",
    "        pred_ls = reco(result['x'][0], result['x'][1],t) \n",
    "        rmse = m_rmse(df['RECO_DT_VUT_REF'], pred_ls)\n",
    "\n",
    "        df_params_new.loc[sitename]['alpha_ls'] = result['x'][0]\n",
    "        df_params_new.loc[sitename]['beta_ls'] = result['x'][1]\n",
    "        df_params_new.loc[sitename]['new_RMSE_ls'] = rmse\n",
    "        \n",
    "    df_params_new.to_csv('Oslo_analysis/VPRMoutput/best_fit_ls_alpha_beta'+str(year)+'.csv')\n"
   ]
  },
  {
   "cell_type": "code",
   "execution_count": 56,
   "id": "80c19c50-9682-4f86-8431-40b18680eabe",
   "metadata": {},
   "outputs": [
    {
     "name": "stdout",
     "output_type": "stream",
     "text": [
      "FI-Hyy\n",
      "lamda:  0.35 tscale:  (17520,) wscale:  (17520,) pscale:  (17520,) evi:  (17520,) rad:  (17520,) radZ:  220.0 original:  (17520,)\n",
      "FI-Let\n",
      "lamda:  0.4 tscale:  (17520,) wscale:  (17520,) pscale:  (17520,) evi:  (17520,) rad:  (17520,) radZ:  130.0 original:  (17520,)\n",
      "SE-Lnn\n",
      "lamda:  0.45 tscale:  (17520,) wscale:  (17520,) pscale:  (17520,) evi:  (17520,) rad:  (17520,) radZ:  250.0 original:  (17520,)\n",
      "SE-Ros\n",
      "lamda:  0.35 tscale:  (17520,) wscale:  (17520,) pscale:  (17520,) evi:  (17520,) rad:  (17520,) radZ:  220.0 original:  (17520,)\n",
      "SE-Deg\n",
      "lamda:  0.2 tscale:  (17520,) wscale:  (17520,) pscale:  (17520,) evi:  (17520,) rad:  (17520,) radZ:  100.0 original:  (17520,)\n",
      "SE-Htm\n",
      "lamda:  0.45 tscale:  (17520,) wscale:  (17520,) pscale:  (17520,) evi:  (17520,) rad:  (17520,) radZ:  250.0 original:  (17520,)\n",
      "SE-Nor\n",
      "lamda:  0.3 tscale:  (17520,) wscale:  (17520,) pscale:  (17520,) evi:  (17520,) rad:  (17520,) radZ:  250.0 original:  (17520,)\n",
      "FI-Hyy\n",
      "lamda:  0.35 tscale:  (17520,) wscale:  (17520,) pscale:  (17520,) evi:  (17520,) rad:  (17520,) radZ:  220.0 original:  (17520,)\n",
      "FI-Let\n",
      "lamda:  0.25 tscale:  (17520,) wscale:  (17520,) pscale:  (17520,) evi:  (17520,) rad:  (17520,) radZ:  220.0 original:  (17520,)\n",
      "SE-Lnn\n",
      "lamda:  0.35 tscale:  (17520,) wscale:  (17520,) pscale:  (17520,) evi:  (17520,) rad:  (17520,) radZ:  220.0 original:  (17520,)\n",
      "SE-Ros\n",
      "lamda:  0.35 tscale:  (17520,) wscale:  (17520,) pscale:  (17520,) evi:  (17520,) rad:  (17520,) radZ:  220.0 original:  (17520,)\n",
      "SE-Svb\n",
      "lamda:  0.4 tscale:  (17520,) wscale:  (17520,) pscale:  (17520,) evi:  (17520,) rad:  (17520,) radZ:  220.0 original:  (17520,)\n",
      "SE-Deg\n",
      "lamda:  0.2 tscale:  (17520,) wscale:  (17520,) pscale:  (17520,) evi:  (17520,) rad:  (17520,) radZ:  100.0 original:  (17520,)\n",
      "SE-Htm\n",
      "lamda:  0.35 tscale:  (17520,) wscale:  (17520,) pscale:  (17520,) evi:  (17520,) rad:  (17520,) radZ:  160.0 original:  (17520,)\n",
      "SE-Nor\n",
      "lamda:  0.3 tscale:  (17520,) wscale:  (17520,) pscale:  (17520,) evi:  (17520,) rad:  (17520,) radZ:  220.0 original:  (17520,)\n",
      "FI-Hyy\n",
      "lamda:  0.3 tscale:  (17520,) wscale:  (17520,) pscale:  (17520,) evi:  (17520,) rad:  (17520,) radZ:  250.0 original:  (17520,)\n",
      "FI-Let\n",
      "lamda:  0.35 tscale:  (17520,) wscale:  (17520,) pscale:  (17520,) evi:  (17520,) rad:  (17520,) radZ:  160.0 original:  (17520,)\n",
      "FI-Qvd\n",
      "lamda:  0.3 tscale:  (17520,) wscale:  (17520,) pscale:  (17520,) evi:  (17520,) rad:  (17520,) radZ:  250.0 original:  (17520,)\n",
      "SE-Ros\n",
      "lamda:  0.3 tscale:  (17520,) wscale:  (17520,) pscale:  (17520,) evi:  (17520,) rad:  (17520,) radZ:  250.0 original:  (17520,)\n",
      "SE-Svb\n",
      "lamda:  0.35 tscale:  (17520,) wscale:  (17520,) pscale:  (17520,) evi:  (17520,) rad:  (17520,) radZ:  220.0 original:  (17520,)\n",
      "SE-Deg\n",
      "lamda:  0.2 tscale:  (17520,) wscale:  (17520,) pscale:  (17520,) evi:  (17520,) rad:  (17520,) radZ:  100.0 original:  (17520,)\n",
      "SE-Htm\n",
      "lamda:  0.3 tscale:  (17520,) wscale:  (17520,) pscale:  (17520,) evi:  (17520,) rad:  (17520,) radZ:  250.0 original:  (17520,)\n",
      "SE-Nor\n",
      "lamda:  0.35 tscale:  (17520,) wscale:  (17520,) pscale:  (17520,) evi:  (17520,) rad:  (17520,) radZ:  220.0 original:  (17520,)\n",
      "FI-Hyy\n",
      "lamda:  0.2 tscale:  (17568,) wscale:  (17568,) pscale:  (17568,) evi:  (17568,) rad:  (17568,) radZ:  250.0 original:  (17568,)\n",
      "FI-Let\n",
      "lamda:  0.25 tscale:  (17568,) wscale:  (17568,) pscale:  (17568,) evi:  (17568,) rad:  (17568,) radZ:  250.0 original:  (17568,)\n",
      "FI-Qvd\n",
      "lamda:  0.3 tscale:  (17568,) wscale:  (17568,) pscale:  (17568,) evi:  (17568,) rad:  (17568,) radZ:  250.0 original:  (17568,)\n",
      "SE-Ros\n",
      "lamda:  0.3 tscale:  (17568,) wscale:  (17568,) pscale:  (17568,) evi:  (17568,) rad:  (17568,) radZ:  250.0 original:  (17568,)\n",
      "SE-Svb\n",
      "lamda:  0.45 tscale:  (17568,) wscale:  (17568,) pscale:  (17568,) evi:  (17568,) rad:  (17568,) radZ:  160.0 original:  (17568,)\n",
      "SE-Deg\n",
      "lamda:  0.2 tscale:  (17568,) wscale:  (17568,) pscale:  (17568,) evi:  (17568,) rad:  (17568,) radZ:  100.0 original:  (17568,)\n",
      "SE-Htm\n",
      "lamda:  0.3 tscale:  (17568,) wscale:  (17568,) pscale:  (17568,) evi:  (17568,) rad:  (17568,) radZ:  250.0 original:  (17568,)\n",
      "SE-Nor\n",
      "lamda:  0.3 tscale:  (17568,) wscale:  (17568,) pscale:  (17568,) evi:  (17568,) rad:  (17568,) radZ:  220.0 original:  (17568,)\n"
     ]
    }
   ],
   "source": [
    "for year in years: \n",
    "    stations, snames = get_stations_year(year)\n",
    "# df (csv with year) with stationname, updated alpha beta rmse old rmse new for all stations \n",
    "    df_params_gpp = pd.DataFrame(index = snames, columns = ['new_RMSE_ls', 'lambdaGPP_ls', 'radZero_ls'])\n",
    "    station_data = pd.read_csv('Oslo_analysis/Station_evi_lswi_temp_rad_'+str(year)+'.csv', header = 0, index_col=0)\n",
    "    \n",
    "    morris_params = pd.read_csv('Oslo_analysis/VPRMoutput/best_fit_morris_'+str(year)+'.csv', header = None)\n",
    "    col_list = ['lambdaGPP', 'radZero', 'alpha', 'beta', 'Tmin', 'Tmax', 'Topt', 'Station', 'iveg']\n",
    "    morris_params.columns = col_list\n",
    "    morris_params.index = morris_params.Station\n",
    "    morris_params\n",
    "\n",
    "    for sitename in snames:\n",
    "        print(sitename) \n",
    "        #get morris optimized parameters, meterological data and sentinel data \n",
    "        lambdaGPP, Tscale, Wscale, Pscale, EVI, Rad, radZero, GPP_or = load_data_gpp(morris_params, station_data, sitename, year, StationDataPath)\n",
    "\n",
    "        print('lamda: ', lambdaGPP, 'tscale: ', Tscale.shape, 'wscale: ', Wscale.shape, 'pscale: ', Pscale.shape, 'evi: ', EVI.shape, 'rad: ', Rad.shape, 'radZ: ', radZero,'original: ', GPP_or.shape)\n",
    "\n",
    "        # optimize params with diff evolution\n",
    "        \n",
    "        a = morris_params.loc[sitename]['lambdaGPP']\n",
    "        a = pd.to_numeric(a)\n",
    "        b = morris_params.loc[sitename]['radZero']\n",
    "        b = pd.to_numeric(b)\n",
    "        \n",
    "        x0 = np.array([a,b])\n",
    "        result = least_squares(func_gee, x0, args = (Tscale, Wscale, Pscale, EVI, Rad, GPP_or,))\n",
    "        \n",
    "        pred_ls = GEE_calculate(result['x'][0], Tscale, Wscale, Pscale, EVI, Rad, result['x'][1])\n",
    "        rmse = m_rmse(GPP_or, pred_ls) \n",
    "\n",
    "        # df_params_gpp.loc[sitename]['Station'] = sitename\n",
    "\n",
    "        df_params_gpp.loc[sitename]['new_RMSE_ls'] = rmse\n",
    "        df_params_gpp.loc[sitename]['lambdaGPP_ls'] = result['x'][0]\n",
    "        df_params_gpp.loc[sitename]['radZero_ls'] = result['x'][1]\n",
    "        \n",
    "    df_params_new.to_csv('Oslo_analysis/VPRMoutput/best_fit_ls_lambdaGPP_radZero'+str(year)+'.csv')\n"
   ]
  },
  {
   "cell_type": "code",
   "execution_count": null,
   "id": "b3a0e862-8871-420c-b1cf-a1fe41e83672",
   "metadata": {},
   "outputs": [],
   "source": []
  },
  {
   "cell_type": "code",
   "execution_count": null,
   "id": "58fbeaab-7d9c-4fbb-8405-e41c7f3a9433",
   "metadata": {},
   "outputs": [],
   "source": []
  },
  {
   "cell_type": "code",
   "execution_count": null,
   "id": "b6256250-602c-4337-8304-fce4ec6c30a3",
   "metadata": {},
   "outputs": [],
   "source": []
  },
  {
   "cell_type": "markdown",
   "id": "348a3233-0da4-4249-8b16-cdd439818b1e",
   "metadata": {},
   "source": [
    "### 2. No winter"
   ]
  },
  {
   "cell_type": "code",
   "execution_count": 54,
   "id": "490955ae-f80c-4439-a7d7-ea67393c3629",
   "metadata": {},
   "outputs": [],
   "source": [
    "for year in years: \n",
    "    stations, snames = get_stations_year(year)\n",
    "    df_params_new = pd.DataFrame(index = snames, columns = ['new_RMSE_ls', 'alpha_ls', 'beta_ls'])\n",
    "    \n",
    "    morris_params = pd.read_csv('Oslo_analysis/VPRMoutput/best_fit_morris_nowinter_'+str(year)+'.csv', header = None)\n",
    "    col_list = ['lambdaGPP', 'radZero', 'alpha', 'beta', 'Tmin', 'Tmax', 'Topt', 'Station', 'iveg']\n",
    "    morris_params.columns = col_list\n",
    "    morris_params.index = morris_params.Station\n",
    "    morris_params\n",
    "\n",
    "    for sitename in snames:\n",
    "        df = get_station_observation_year(StationDataPath, sitename, year)\n",
    "        df.date = pd.to_datetime(df.date)\n",
    "        df['month'] = df['date'].dt.month\n",
    "        df = df[df['month'] != 12]\n",
    "        df = df[df['month'] != 2]\n",
    "        df = df[df['month'] != 1]\n",
    "           \n",
    "        a = morris_params.loc[sitename]['alpha']\n",
    "        a = pd.to_numeric(a)\n",
    "        b = morris_params.loc[sitename]['beta']\n",
    "        b = pd.to_numeric(b)\n",
    "        t = pd.to_numeric(df['TA_F'], errors='coerce')\n",
    "\n",
    "        temp = df['TA_F'].tolist()\n",
    "        resp = df['RECO_DT_VUT_REF'].tolist()\n",
    "        x0 = np.array([a,b])\n",
    "        result = least_squares(func_reco, x0,args = (temp,resp,))\n",
    "        \n",
    "        pred_ls = reco(result['x'][0], result['x'][1],t) \n",
    "        rmse = m_rmse(df['RECO_DT_VUT_REF'], pred_ls)\n",
    "\n",
    "        df_params_new.loc[sitename]['alpha_ls'] = result['x'][0]\n",
    "        df_params_new.loc[sitename]['beta_ls'] = result['x'][1]\n",
    "        df_params_new.loc[sitename]['new_RMSE_ls'] = rmse\n",
    "        \n",
    "    df_params_new.to_csv('Oslo_analysis/VPRMoutput/best_fit_ls_alpha_beta_nowinter_'+str(year)+'.csv')"
   ]
  },
  {
   "cell_type": "code",
   "execution_count": 61,
   "id": "971f0dd9-2cf0-417e-ae18-bf05c185d2ac",
   "metadata": {},
   "outputs": [
    {
     "name": "stdout",
     "output_type": "stream",
     "text": [
      "FI-Hyy\n",
      "lamda:  0.4 tscale:  (13200,) wscale:  (13200,) pscale:  (13200,) evi:  (13200,) rad:  (13200,) radZ:  190.0 original:  (13200,)\n",
      "FI-Let\n",
      "lamda:  0.4 tscale:  (13200,) wscale:  (13200,) pscale:  (13200,) evi:  (13200,) rad:  (13200,) radZ:  130.0 original:  (13200,)\n",
      "SE-Lnn\n",
      "lamda:  0.45 tscale:  (13200,) wscale:  (13200,) pscale:  (13200,) evi:  (13200,) rad:  (13200,) radZ:  250.0 original:  (13200,)\n",
      "SE-Ros\n",
      "lamda:  0.35 tscale:  (13200,) wscale:  (13200,) pscale:  (13200,) evi:  (13200,) rad:  (13200,) radZ:  220.0 original:  (13200,)\n",
      "SE-Deg\n",
      "lamda:  0.2 tscale:  (13200,) wscale:  (13200,) pscale:  (13200,) evi:  (13200,) rad:  (13200,) radZ:  100.0 original:  (13200,)\n",
      "SE-Htm\n",
      "lamda:  0.45 tscale:  (13200,) wscale:  (13200,) pscale:  (13200,) evi:  (13200,) rad:  (13200,) radZ:  250.0 original:  (13200,)\n",
      "SE-Nor\n",
      "lamda:  0.25 tscale:  (13200,) wscale:  (13200,) pscale:  (13200,) evi:  (13200,) rad:  (13200,) radZ:  250.0 original:  (13200,)\n",
      "FI-Hyy\n",
      "lamda:  0.3 tscale:  (13200,) wscale:  (13200,) pscale:  (13200,) evi:  (13200,) rad:  (13200,) radZ:  250.0 original:  (13200,)\n",
      "FI-Let\n",
      "lamda:  0.25 tscale:  (13200,) wscale:  (13200,) pscale:  (13200,) evi:  (13200,) rad:  (13200,) radZ:  220.0 original:  (13200,)\n",
      "SE-Lnn\n",
      "lamda:  0.3 tscale:  (13200,) wscale:  (13200,) pscale:  (13200,) evi:  (13200,) rad:  (13200,) radZ:  250.0 original:  (13200,)\n",
      "SE-Ros\n",
      "lamda:  0.35 tscale:  (13200,) wscale:  (13200,) pscale:  (13200,) evi:  (13200,) rad:  (13200,) radZ:  250.0 original:  (13200,)\n",
      "SE-Svb\n",
      "lamda:  0.45 tscale:  (13200,) wscale:  (13200,) pscale:  (13200,) evi:  (13200,) rad:  (13200,) radZ:  190.0 original:  (13200,)\n",
      "SE-Deg\n",
      "lamda:  0.2 tscale:  (13200,) wscale:  (13200,) pscale:  (13200,) evi:  (13200,) rad:  (13200,) radZ:  100.0 original:  (13200,)\n",
      "SE-Htm\n",
      "lamda:  0.4 tscale:  (13200,) wscale:  (13200,) pscale:  (13200,) evi:  (13200,) rad:  (13200,) radZ:  130.0 original:  (13200,)\n",
      "SE-Nor\n",
      "lamda:  0.3 tscale:  (13200,) wscale:  (13200,) pscale:  (13200,) evi:  (13200,) rad:  (13200,) radZ:  220.0 original:  (13200,)\n",
      "FI-Hyy\n",
      "lamda:  0.3 tscale:  (13200,) wscale:  (13200,) pscale:  (13200,) evi:  (13200,) rad:  (13200,) radZ:  250.0 original:  (13200,)\n",
      "FI-Let\n",
      "lamda:  0.3 tscale:  (13200,) wscale:  (13200,) pscale:  (13200,) evi:  (13200,) rad:  (13200,) radZ:  160.0 original:  (13200,)\n",
      "FI-Qvd\n",
      "lamda:  0.3 tscale:  (13200,) wscale:  (13200,) pscale:  (13200,) evi:  (13200,) rad:  (13200,) radZ:  220.0 original:  (13200,)\n",
      "SE-Ros\n",
      "lamda:  0.3 tscale:  (13200,) wscale:  (13200,) pscale:  (13200,) evi:  (13200,) rad:  (13200,) radZ:  250.0 original:  (13200,)\n",
      "SE-Svb\n",
      "lamda:  0.4 tscale:  (13200,) wscale:  (13200,) pscale:  (13200,) evi:  (13200,) rad:  (13200,) radZ:  190.0 original:  (13200,)\n",
      "SE-Deg\n",
      "lamda:  0.2 tscale:  (13200,) wscale:  (13200,) pscale:  (13200,) evi:  (13200,) rad:  (13200,) radZ:  100.0 original:  (13200,)\n",
      "SE-Htm\n",
      "lamda:  0.35 tscale:  (13200,) wscale:  (13200,) pscale:  (13200,) evi:  (13200,) rad:  (13200,) radZ:  250.0 original:  (13200,)\n",
      "SE-Nor\n",
      "lamda:  0.3 tscale:  (13200,) wscale:  (13200,) pscale:  (13200,) evi:  (13200,) rad:  (13200,) radZ:  220.0 original:  (13200,)\n",
      "FI-Hyy\n",
      "lamda:  0.2 tscale:  (13200,) wscale:  (13200,) pscale:  (13200,) evi:  (13200,) rad:  (13200,) radZ:  250.0 original:  (13200,)\n",
      "FI-Let\n",
      "lamda:  0.25 tscale:  (13200,) wscale:  (13200,) pscale:  (13200,) evi:  (13200,) rad:  (13200,) radZ:  250.0 original:  (13200,)\n",
      "FI-Qvd\n",
      "lamda:  0.25 tscale:  (13200,) wscale:  (13200,) pscale:  (13200,) evi:  (13200,) rad:  (13200,) radZ:  250.0 original:  (13200,)\n",
      "SE-Ros\n",
      "lamda:  0.35 tscale:  (13200,) wscale:  (13200,) pscale:  (13200,) evi:  (13200,) rad:  (13200,) radZ:  220.0 original:  (13200,)\n",
      "SE-Svb\n",
      "lamda:  0.35 tscale:  (13200,) wscale:  (13200,) pscale:  (13200,) evi:  (13200,) rad:  (13200,) radZ:  220.0 original:  (13200,)\n",
      "SE-Deg\n",
      "lamda:  0.2 tscale:  (13200,) wscale:  (13200,) pscale:  (13200,) evi:  (13200,) rad:  (13200,) radZ:  100.0 original:  (13200,)\n",
      "SE-Htm\n",
      "lamda:  0.35 tscale:  (13200,) wscale:  (13200,) pscale:  (13200,) evi:  (13200,) rad:  (13200,) radZ:  190.0 original:  (13200,)\n",
      "SE-Nor\n",
      "lamda:  0.25 tscale:  (13200,) wscale:  (13200,) pscale:  (13200,) evi:  (13200,) rad:  (13200,) radZ:  250.0 original:  (13200,)\n"
     ]
    }
   ],
   "source": [
    "for year in years: \n",
    "    stations, snames = get_stations_year(year)\n",
    "# df (csv with year) with stationname, updated alpha beta rmse old rmse new for all stations \n",
    "    df_params_gpp = pd.DataFrame(index = snames, columns = ['new_RMSE_ls', 'lambdaGPP_ls', 'radZero_ls'])\n",
    "    station_data = pd.read_csv('Oslo_analysis/Station_evi_lswi_temp_rad_'+str(year)+'.csv', header = 0, index_col=0)\n",
    "    station_data.loc[:,'month'] = pd.to_datetime(station_data.index).month.to_list()\n",
    "    station_data = station_data[station_data['month']!= 12]\n",
    "    station_data = station_data[station_data['month']!= 1]\n",
    "    station_data = station_data[station_data['month']!= 2]\n",
    "    \n",
    "    morris_params = pd.read_csv('Oslo_analysis/VPRMoutput/best_fit_morris_nowinter_'+str(year)+'.csv', header = None)\n",
    "    col_list = ['lambdaGPP', 'radZero', 'alpha', 'beta', 'Tmin', 'Tmax', 'Topt', 'Station', 'iveg']\n",
    "    morris_params.columns = col_list\n",
    "    morris_params.index = morris_params.Station\n",
    "    morris_params\n",
    "\n",
    "    for sitename in snames:\n",
    "        print(sitename) \n",
    "        #get morris optimized parameters, meterological data and sentinel data \n",
    "        lambdaGPP, Tscale, Wscale, Pscale, EVI, Rad, radZero, GPP_or = load_data_gpp(morris_params, station_data, sitename, year, StationDataPath, months = True)\n",
    "        \n",
    "        print('lamda: ', lambdaGPP, 'tscale: ', Tscale.shape, 'wscale: ', Wscale.shape, 'pscale: ', Pscale.shape, 'evi: ', EVI.shape, 'rad: ', Rad.shape, 'radZ: ', radZero,'original: ', GPP_or.shape)\n",
    "\n",
    "        # optimize params with diff evolution\n",
    "        \n",
    "        a = morris_params.loc[sitename]['lambdaGPP']\n",
    "        a = pd.to_numeric(a)\n",
    "        b = morris_params.loc[sitename]['radZero']\n",
    "        b = pd.to_numeric(b)\n",
    "        \n",
    "        x0 = np.array([a,b])\n",
    "        result = least_squares(func_gee, x0, args = (Tscale, Wscale, Pscale, EVI, Rad, GPP_or,))\n",
    "        \n",
    "        pred_ls = GEE_calculate(result['x'][0], Tscale, Wscale, Pscale, EVI, Rad, result['x'][1])\n",
    "        rmse = m_rmse(GPP_or, pred_ls) \n",
    "\n",
    "        # df_params_gpp.loc[sitename]['Station'] = sitename\n",
    "\n",
    "        df_params_gpp.loc[sitename]['new_RMSE_ls'] = rmse\n",
    "        df_params_gpp.loc[sitename]['lambdaGPP_ls'] = result['x'][0]\n",
    "        df_params_gpp.loc[sitename]['radZero_ls'] = result['x'][1]\n",
    "        \n",
    "    df_params_new.to_csv('Oslo_analysis/VPRMoutput/best_fit_ls_lambdaGPP_radZero_nowinter'+str(year)+'.csv')\n"
   ]
  },
  {
   "cell_type": "code",
   "execution_count": null,
   "id": "cbca8e42-1ea8-473d-a8e5-32b20b6a749d",
   "metadata": {},
   "outputs": [],
   "source": []
  }
 ],
 "metadata": {
  "kernelspec": {
   "display_name": "env_kernel",
   "language": "python",
   "name": "env_kernel"
  },
  "language_info": {
   "codemirror_mode": {
    "name": "ipython",
    "version": 3
   },
   "file_extension": ".py",
   "mimetype": "text/x-python",
   "name": "python",
   "nbconvert_exporter": "python",
   "pygments_lexer": "ipython3",
   "version": "3.7.11"
  }
 },
 "nbformat": 4,
 "nbformat_minor": 5
}
