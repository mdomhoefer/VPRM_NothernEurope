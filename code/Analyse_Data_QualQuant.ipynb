{
 "cells": [
  {
   "cell_type": "code",
   "execution_count": 69,
   "id": "ca5bc972-33a1-4435-83c3-ae9ed40f41a0",
   "metadata": {},
   "outputs": [],
   "source": [
    "import Functions\n",
    "import os\n",
    "from sklearn.metrics import mean_squared_error\n",
    "\n",
    "%run Functions.py\n",
    "\n",
    "cwd = '/data/co2flux/common/mdomhoef/Oslo/Oslo_analysis/'\n",
    "station_data = cwd + 'data/HH_Data_small/'"
   ]
  },
  {
   "cell_type": "code",
   "execution_count": 3,
   "id": "47f82906-d913-4369-9434-ab9b08fd7cfc",
   "metadata": {},
   "outputs": [],
   "source": [
    "# Analyse Quant > get number of stations over years and PFT \n",
    "years_file = cwd + 'Station_years.csv'\n",
    "years = pd.read_csv(years_file, index_col = 0)\n",
    "years = years.loc[2014:2020]"
   ]
  },
  {
   "cell_type": "code",
   "execution_count": 4,
   "id": "90e07d63-40a2-4d0f-a123-0f1121780171",
   "metadata": {},
   "outputs": [],
   "source": [
    "series = pd.DataFrame()\n",
    "for y in years.index:\n",
    "    stations, snames = get_stations_year(y)\n",
    "    stations.set_index(stations['Station'], inplace=True)\n",
    "    series[str(y)] = stations.groupby('IGBP').count()['Station']"
   ]
  },
  {
   "cell_type": "code",
   "execution_count": 5,
   "id": "fa1b5d3e-edf4-4ed6-9172-fde25b623a4a",
   "metadata": {},
   "outputs": [
    {
     "data": {
      "text/html": [
       "<div>\n",
       "<style scoped>\n",
       "    .dataframe tbody tr th:only-of-type {\n",
       "        vertical-align: middle;\n",
       "    }\n",
       "\n",
       "    .dataframe tbody tr th {\n",
       "        vertical-align: top;\n",
       "    }\n",
       "\n",
       "    .dataframe thead th {\n",
       "        text-align: right;\n",
       "    }\n",
       "</style>\n",
       "<table border=\"1\" class=\"dataframe\">\n",
       "  <thead>\n",
       "    <tr style=\"text-align: right;\">\n",
       "      <th></th>\n",
       "      <th>2014</th>\n",
       "      <th>2015</th>\n",
       "      <th>2016</th>\n",
       "      <th>2017</th>\n",
       "      <th>2018</th>\n",
       "      <th>2019</th>\n",
       "      <th>2020</th>\n",
       "    </tr>\n",
       "    <tr>\n",
       "      <th>IGBP</th>\n",
       "      <th></th>\n",
       "      <th></th>\n",
       "      <th></th>\n",
       "      <th></th>\n",
       "      <th></th>\n",
       "      <th></th>\n",
       "      <th></th>\n",
       "    </tr>\n",
       "  </thead>\n",
       "  <tbody>\n",
       "    <tr>\n",
       "      <th>CRO</th>\n",
       "      <td>1</td>\n",
       "      <td>1</td>\n",
       "      <td>1</td>\n",
       "      <td>1</td>\n",
       "      <td>1</td>\n",
       "      <td>1</td>\n",
       "      <td>1</td>\n",
       "    </tr>\n",
       "    <tr>\n",
       "      <th>ENF</th>\n",
       "      <td>3</td>\n",
       "      <td>6</td>\n",
       "      <td>6</td>\n",
       "      <td>5</td>\n",
       "      <td>6</td>\n",
       "      <td>6</td>\n",
       "      <td>6</td>\n",
       "    </tr>\n",
       "    <tr>\n",
       "      <th>GRA</th>\n",
       "      <td>1</td>\n",
       "      <td>1</td>\n",
       "      <td>1</td>\n",
       "      <td>1</td>\n",
       "      <td>1</td>\n",
       "      <td>1</td>\n",
       "      <td>1</td>\n",
       "    </tr>\n",
       "  </tbody>\n",
       "</table>\n",
       "</div>"
      ],
      "text/plain": [
       "      2014  2015  2016  2017  2018  2019  2020\n",
       "IGBP                                          \n",
       "CRO      1     1     1     1     1     1     1\n",
       "ENF      3     6     6     5     6     6     6\n",
       "GRA      1     1     1     1     1     1     1"
      ]
     },
     "execution_count": 5,
     "metadata": {},
     "output_type": "execute_result"
    }
   ],
   "source": [
    "series"
   ]
  },
  {
   "cell_type": "code",
   "execution_count": 6,
   "id": "5f73a798-2fa9-40f3-9873-480fc90c8c14",
   "metadata": {},
   "outputs": [],
   "source": [
    "paths = os.listdir(station_data)\n",
    "paths.remove('.ipynb_checkpoints')"
   ]
  },
  {
   "cell_type": "code",
   "execution_count": 7,
   "id": "e3989ad2-cfaa-45a8-8bc5-0078fa34b61b",
   "metadata": {},
   "outputs": [],
   "source": [
    "quality = pd.DataFrame()\n",
    "df_qs = pd.DataFrame()\n"
   ]
  },
  {
   "cell_type": "code",
   "execution_count": 8,
   "id": "16fa6c36-9fac-4ad9-af73-23c5c9b29b18",
   "metadata": {},
   "outputs": [],
   "source": [
    "for y in years.index:\n",
    "    stations, snames = get_stations_year(y)\n",
    "    for sitename in snames:\n",
    "        fls = os.listdir(station_data)\n",
    "        fls = [x for x, y in zip(fls, [(sitename in file) for file in fls]) if y == True]\n",
    "        df = pd.read_csv(station_data+fls[0], index_col = 0)\n",
    "        df.date = pd.to_datetime(df.date)\n",
    "        df['year'] = df['date'].dt.year\n",
    "        df = df[df['year'] == y]\n",
    "        # print(df.columns)\n",
    "        quality[sitename + str(y) +'QC'] = df.groupby('NEE_VUT_REF_QC').count()['NEE_VUT_REF']\n",
    "    cols = [col for col in quality.columns if str(y) in col]\n",
    "    df_qs[str(y)] = quality[cols].sum(axis=1)"
   ]
  },
  {
   "cell_type": "code",
   "execution_count": 9,
   "id": "9c02117d-8d05-4c79-b681-2a5b18965e01",
   "metadata": {},
   "outputs": [
    {
     "data": {
      "text/html": [
       "<div>\n",
       "<style scoped>\n",
       "    .dataframe tbody tr th:only-of-type {\n",
       "        vertical-align: middle;\n",
       "    }\n",
       "\n",
       "    .dataframe tbody tr th {\n",
       "        vertical-align: top;\n",
       "    }\n",
       "\n",
       "    .dataframe thead th {\n",
       "        text-align: right;\n",
       "    }\n",
       "</style>\n",
       "<table border=\"1\" class=\"dataframe\">\n",
       "  <thead>\n",
       "    <tr style=\"text-align: right;\">\n",
       "      <th></th>\n",
       "      <th>2014</th>\n",
       "      <th>2015</th>\n",
       "      <th>2016</th>\n",
       "      <th>2017</th>\n",
       "      <th>2018</th>\n",
       "      <th>2019</th>\n",
       "      <th>2020</th>\n",
       "    </tr>\n",
       "    <tr>\n",
       "      <th>NEE_VUT_REF_QC</th>\n",
       "      <th></th>\n",
       "      <th></th>\n",
       "      <th></th>\n",
       "      <th></th>\n",
       "      <th></th>\n",
       "      <th></th>\n",
       "      <th></th>\n",
       "    </tr>\n",
       "  </thead>\n",
       "  <tbody>\n",
       "    <tr>\n",
       "      <th>0</th>\n",
       "      <td>36116</td>\n",
       "      <td>61191.0</td>\n",
       "      <td>49326.0</td>\n",
       "      <td>46273.0</td>\n",
       "      <td>45671.0</td>\n",
       "      <td>50988.0</td>\n",
       "      <td>58279.0</td>\n",
       "    </tr>\n",
       "    <tr>\n",
       "      <th>1</th>\n",
       "      <td>42668</td>\n",
       "      <td>72819.0</td>\n",
       "      <td>80114.0</td>\n",
       "      <td>63765.0</td>\n",
       "      <td>74226.0</td>\n",
       "      <td>75430.0</td>\n",
       "      <td>76619.0</td>\n",
       "    </tr>\n",
       "    <tr>\n",
       "      <th>2</th>\n",
       "      <td>5883</td>\n",
       "      <td>5861.0</td>\n",
       "      <td>9529.0</td>\n",
       "      <td>7654.0</td>\n",
       "      <td>11366.0</td>\n",
       "      <td>7141.0</td>\n",
       "      <td>5110.0</td>\n",
       "    </tr>\n",
       "    <tr>\n",
       "      <th>3</th>\n",
       "      <td>2933</td>\n",
       "      <td>289.0</td>\n",
       "      <td>1575.0</td>\n",
       "      <td>4948.0</td>\n",
       "      <td>8897.0</td>\n",
       "      <td>6601.0</td>\n",
       "      <td>536.0</td>\n",
       "    </tr>\n",
       "  </tbody>\n",
       "</table>\n",
       "</div>"
      ],
      "text/plain": [
       "                 2014     2015     2016     2017     2018     2019     2020\n",
       "NEE_VUT_REF_QC                                                             \n",
       "0               36116  61191.0  49326.0  46273.0  45671.0  50988.0  58279.0\n",
       "1               42668  72819.0  80114.0  63765.0  74226.0  75430.0  76619.0\n",
       "2                5883   5861.0   9529.0   7654.0  11366.0   7141.0   5110.0\n",
       "3                2933    289.0   1575.0   4948.0   8897.0   6601.0    536.0"
      ]
     },
     "execution_count": 9,
     "metadata": {},
     "output_type": "execute_result"
    }
   ],
   "source": [
    "df_qs"
   ]
  },
  {
   "cell_type": "code",
   "execution_count": 10,
   "id": "e448e43c-483a-4994-82d9-9d1b5889d2b3",
   "metadata": {},
   "outputs": [],
   "source": [
    "# df_qs.loc['Total']= df_qs.sum()\n",
    "# df_qs = df_qs.drop(index = 'Total')\n",
    "# df_qs = df_qs.drop(labels = '2014_perc', axis = 1)"
   ]
  },
  {
   "cell_type": "code",
   "execution_count": 11,
   "id": "0fc88f4c-6b08-429e-b738-4961c7dbae78",
   "metadata": {},
   "outputs": [],
   "source": [
    "for col in df_qs.columns:\n",
    "    df_qs[col +'_perc'] = 100/df_qs[col].sum()*df_qs[col]"
   ]
  },
  {
   "cell_type": "code",
   "execution_count": 12,
   "id": "a62c24d0-7deb-4b16-9c15-0c79b4c9fb59",
   "metadata": {},
   "outputs": [
    {
     "data": {
      "text/html": [
       "<div>\n",
       "<style scoped>\n",
       "    .dataframe tbody tr th:only-of-type {\n",
       "        vertical-align: middle;\n",
       "    }\n",
       "\n",
       "    .dataframe tbody tr th {\n",
       "        vertical-align: top;\n",
       "    }\n",
       "\n",
       "    .dataframe thead th {\n",
       "        text-align: right;\n",
       "    }\n",
       "</style>\n",
       "<table border=\"1\" class=\"dataframe\">\n",
       "  <thead>\n",
       "    <tr style=\"text-align: right;\">\n",
       "      <th></th>\n",
       "      <th>2014</th>\n",
       "      <th>2015</th>\n",
       "      <th>2016</th>\n",
       "      <th>2017</th>\n",
       "      <th>2018</th>\n",
       "      <th>2019</th>\n",
       "      <th>2020</th>\n",
       "      <th>2014_perc</th>\n",
       "      <th>2015_perc</th>\n",
       "      <th>2016_perc</th>\n",
       "      <th>2017_perc</th>\n",
       "      <th>2018_perc</th>\n",
       "      <th>2019_perc</th>\n",
       "      <th>2020_perc</th>\n",
       "    </tr>\n",
       "    <tr>\n",
       "      <th>NEE_VUT_REF_QC</th>\n",
       "      <th></th>\n",
       "      <th></th>\n",
       "      <th></th>\n",
       "      <th></th>\n",
       "      <th></th>\n",
       "      <th></th>\n",
       "      <th></th>\n",
       "      <th></th>\n",
       "      <th></th>\n",
       "      <th></th>\n",
       "      <th></th>\n",
       "      <th></th>\n",
       "      <th></th>\n",
       "      <th></th>\n",
       "    </tr>\n",
       "  </thead>\n",
       "  <tbody>\n",
       "    <tr>\n",
       "      <th>0</th>\n",
       "      <td>36116</td>\n",
       "      <td>61191.0</td>\n",
       "      <td>49326.0</td>\n",
       "      <td>46273.0</td>\n",
       "      <td>45671.0</td>\n",
       "      <td>50988.0</td>\n",
       "      <td>58279.0</td>\n",
       "      <td>41.228311</td>\n",
       "      <td>43.657962</td>\n",
       "      <td>35.096482</td>\n",
       "      <td>37.730757</td>\n",
       "      <td>32.584903</td>\n",
       "      <td>36.378425</td>\n",
       "      <td>41.466729</td>\n",
       "    </tr>\n",
       "    <tr>\n",
       "      <th>1</th>\n",
       "      <td>42668</td>\n",
       "      <td>72819.0</td>\n",
       "      <td>80114.0</td>\n",
       "      <td>63765.0</td>\n",
       "      <td>74226.0</td>\n",
       "      <td>75430.0</td>\n",
       "      <td>76619.0</td>\n",
       "      <td>48.707763</td>\n",
       "      <td>51.954195</td>\n",
       "      <td>57.002789</td>\n",
       "      <td>51.993640</td>\n",
       "      <td>52.958048</td>\n",
       "      <td>53.817066</td>\n",
       "      <td>54.516023</td>\n",
       "    </tr>\n",
       "    <tr>\n",
       "      <th>2</th>\n",
       "      <td>5883</td>\n",
       "      <td>5861.0</td>\n",
       "      <td>9529.0</td>\n",
       "      <td>7654.0</td>\n",
       "      <td>11366.0</td>\n",
       "      <td>7141.0</td>\n",
       "      <td>5110.0</td>\n",
       "      <td>6.715753</td>\n",
       "      <td>4.181650</td>\n",
       "      <td>6.780083</td>\n",
       "      <td>6.241031</td>\n",
       "      <td>8.109304</td>\n",
       "      <td>5.094892</td>\n",
       "      <td>3.635872</td>\n",
       "    </tr>\n",
       "    <tr>\n",
       "      <th>3</th>\n",
       "      <td>2933</td>\n",
       "      <td>289.0</td>\n",
       "      <td>1575.0</td>\n",
       "      <td>4948.0</td>\n",
       "      <td>8897.0</td>\n",
       "      <td>6601.0</td>\n",
       "      <td>536.0</td>\n",
       "      <td>3.348174</td>\n",
       "      <td>0.206193</td>\n",
       "      <td>1.120645</td>\n",
       "      <td>4.034573</td>\n",
       "      <td>6.347745</td>\n",
       "      <td>4.709618</td>\n",
       "      <td>0.381375</td>\n",
       "    </tr>\n",
       "  </tbody>\n",
       "</table>\n",
       "</div>"
      ],
      "text/plain": [
       "                 2014     2015     2016     2017     2018     2019     2020  \\\n",
       "NEE_VUT_REF_QC                                                                \n",
       "0               36116  61191.0  49326.0  46273.0  45671.0  50988.0  58279.0   \n",
       "1               42668  72819.0  80114.0  63765.0  74226.0  75430.0  76619.0   \n",
       "2                5883   5861.0   9529.0   7654.0  11366.0   7141.0   5110.0   \n",
       "3                2933    289.0   1575.0   4948.0   8897.0   6601.0    536.0   \n",
       "\n",
       "                2014_perc  2015_perc  2016_perc  2017_perc  2018_perc  \\\n",
       "NEE_VUT_REF_QC                                                          \n",
       "0               41.228311  43.657962  35.096482  37.730757  32.584903   \n",
       "1               48.707763  51.954195  57.002789  51.993640  52.958048   \n",
       "2                6.715753   4.181650   6.780083   6.241031   8.109304   \n",
       "3                3.348174   0.206193   1.120645   4.034573   6.347745   \n",
       "\n",
       "                2019_perc  2020_perc  \n",
       "NEE_VUT_REF_QC                        \n",
       "0               36.378425  41.466729  \n",
       "1               53.817066  54.516023  \n",
       "2                5.094892   3.635872  \n",
       "3                4.709618   0.381375  "
      ]
     },
     "execution_count": 12,
     "metadata": {},
     "output_type": "execute_result"
    }
   ],
   "source": [
    "df_qs"
   ]
  },
  {
   "cell_type": "code",
   "execution_count": 13,
   "id": "c18274e4-1802-486f-8757-2cb2e80cdfee",
   "metadata": {},
   "outputs": [
    {
     "data": {
      "text/html": [
       "<div>\n",
       "<style scoped>\n",
       "    .dataframe tbody tr th:only-of-type {\n",
       "        vertical-align: middle;\n",
       "    }\n",
       "\n",
       "    .dataframe tbody tr th {\n",
       "        vertical-align: top;\n",
       "    }\n",
       "\n",
       "    .dataframe thead th {\n",
       "        text-align: right;\n",
       "    }\n",
       "</style>\n",
       "<table border=\"1\" class=\"dataframe\">\n",
       "  <thead>\n",
       "    <tr style=\"text-align: right;\">\n",
       "      <th></th>\n",
       "      <th>lambdaGPP</th>\n",
       "      <th>radZero</th>\n",
       "      <th>alpha</th>\n",
       "      <th>beta</th>\n",
       "      <th>Tmin</th>\n",
       "      <th>Tmax</th>\n",
       "      <th>Topt</th>\n",
       "      <th>Station</th>\n",
       "      <th>iveg</th>\n",
       "    </tr>\n",
       "    <tr>\n",
       "      <th>Station</th>\n",
       "      <th></th>\n",
       "      <th></th>\n",
       "      <th></th>\n",
       "      <th></th>\n",
       "      <th></th>\n",
       "      <th></th>\n",
       "      <th></th>\n",
       "      <th></th>\n",
       "      <th></th>\n",
       "    </tr>\n",
       "  </thead>\n",
       "  <tbody>\n",
       "    <tr>\n",
       "      <th>FI-Hyy</th>\n",
       "      <td>0.25</td>\n",
       "      <td>220.0</td>\n",
       "      <td>0.2</td>\n",
       "      <td>1.0</td>\n",
       "      <td>-0.6</td>\n",
       "      <td>39.4</td>\n",
       "      <td>21.0</td>\n",
       "      <td>FI-Hyy</td>\n",
       "      <td>0</td>\n",
       "    </tr>\n",
       "    <tr>\n",
       "      <th>FI-Let</th>\n",
       "      <td>0.25</td>\n",
       "      <td>220.0</td>\n",
       "      <td>0.2</td>\n",
       "      <td>0.8</td>\n",
       "      <td>-1.0</td>\n",
       "      <td>41.0</td>\n",
       "      <td>21.0</td>\n",
       "      <td>FI-Let</td>\n",
       "      <td>0</td>\n",
       "    </tr>\n",
       "    <tr>\n",
       "      <th>FI-Qvd</th>\n",
       "      <td>0.30</td>\n",
       "      <td>220.0</td>\n",
       "      <td>0.2</td>\n",
       "      <td>0.6</td>\n",
       "      <td>-0.6</td>\n",
       "      <td>41.0</td>\n",
       "      <td>19.0</td>\n",
       "      <td>FI-Qvd</td>\n",
       "      <td>5</td>\n",
       "    </tr>\n",
       "    <tr>\n",
       "      <th>SE-Ros</th>\n",
       "      <td>0.30</td>\n",
       "      <td>250.0</td>\n",
       "      <td>0.2</td>\n",
       "      <td>0.2</td>\n",
       "      <td>0.6</td>\n",
       "      <td>39.0</td>\n",
       "      <td>19.0</td>\n",
       "      <td>SE-Ros</td>\n",
       "      <td>0</td>\n",
       "    </tr>\n",
       "    <tr>\n",
       "      <th>SE-Svb</th>\n",
       "      <td>0.35</td>\n",
       "      <td>220.0</td>\n",
       "      <td>0.2</td>\n",
       "      <td>0.8</td>\n",
       "      <td>1.0</td>\n",
       "      <td>41.0</td>\n",
       "      <td>20.2</td>\n",
       "      <td>SE-Svb</td>\n",
       "      <td>0</td>\n",
       "    </tr>\n",
       "    <tr>\n",
       "      <th>SE-Deg</th>\n",
       "      <td>0.20</td>\n",
       "      <td>100.0</td>\n",
       "      <td>0.1</td>\n",
       "      <td>0.0</td>\n",
       "      <td>1.0</td>\n",
       "      <td>40.2</td>\n",
       "      <td>19.4</td>\n",
       "      <td>SE-Deg</td>\n",
       "      <td>6</td>\n",
       "    </tr>\n",
       "    <tr>\n",
       "      <th>SE-Htm</th>\n",
       "      <td>0.35</td>\n",
       "      <td>190.0</td>\n",
       "      <td>0.2</td>\n",
       "      <td>1.0</td>\n",
       "      <td>-0.6</td>\n",
       "      <td>41.0</td>\n",
       "      <td>19.4</td>\n",
       "      <td>SE-Htm</td>\n",
       "      <td>0</td>\n",
       "    </tr>\n",
       "    <tr>\n",
       "      <th>SE-Nor</th>\n",
       "      <td>0.30</td>\n",
       "      <td>220.0</td>\n",
       "      <td>0.2</td>\n",
       "      <td>1.0</td>\n",
       "      <td>-1.0</td>\n",
       "      <td>41.0</td>\n",
       "      <td>19.4</td>\n",
       "      <td>SE-Nor</td>\n",
       "      <td>0</td>\n",
       "    </tr>\n",
       "  </tbody>\n",
       "</table>\n",
       "</div>"
      ],
      "text/plain": [
       "         lambdaGPP  radZero  alpha  beta  Tmin  Tmax  Topt Station  iveg\n",
       "Station                                                                 \n",
       "FI-Hyy        0.25    220.0    0.2   1.0  -0.6  39.4  21.0  FI-Hyy     0\n",
       "FI-Let        0.25    220.0    0.2   0.8  -1.0  41.0  21.0  FI-Let     0\n",
       "FI-Qvd        0.30    220.0    0.2   0.6  -0.6  41.0  19.0  FI-Qvd     5\n",
       "SE-Ros        0.30    250.0    0.2   0.2   0.6  39.0  19.0  SE-Ros     0\n",
       "SE-Svb        0.35    220.0    0.2   0.8   1.0  41.0  20.2  SE-Svb     0\n",
       "SE-Deg        0.20    100.0    0.1   0.0   1.0  40.2  19.4  SE-Deg     6\n",
       "SE-Htm        0.35    190.0    0.2   1.0  -0.6  41.0  19.4  SE-Htm     0\n",
       "SE-Nor        0.30    220.0    0.2   1.0  -1.0  41.0  19.4  SE-Nor     0"
      ]
     },
     "execution_count": 13,
     "metadata": {},
     "output_type": "execute_result"
    }
   ],
   "source": []
  },
  {
   "cell_type": "code",
   "execution_count": 14,
   "id": "54aa95e6-c460-4e91-81da-2da3b6a33f80",
   "metadata": {},
   "outputs": [],
   "source": [
    "# load station data RECO\n",
    "# implement function\n",
    "# see if alpha and beta in lin function work well (calculate RMSE) of original and not \n"
   ]
  },
  {
   "cell_type": "code",
   "execution_count": 32,
   "id": "3c2ca52f-2747-4ba5-9f27-adaa226b8ed1",
   "metadata": {},
   "outputs": [],
   "source": []
  },
  {
   "cell_type": "code",
   "execution_count": 33,
   "id": "19fe0f03-d87e-4a0a-b401-3ed0331955bb",
   "metadata": {},
   "outputs": [
    {
     "data": {
      "text/plain": [
       "Index(['TIMESTAMP_START', 'TIMESTAMP_END', 'TA_F_MDS', 'TA_F_MDS_QC', 'TA_F',\n",
       "       'TA_F_QC', 'SW_IN_F_MDS', 'SW_IN_F', 'VPD_F_MDS', 'VPD_F', 'TS_F_MDS_1',\n",
       "       'TS_F_MDS_2', 'TS_F_MDS_3', 'TS_F_MDS_4', 'TS_F_MDS_5', 'TS_F_MDS_1_QC',\n",
       "       'TS_F_MDS_2_QC', 'TS_F_MDS_3_QC', 'TS_F_MDS_4_QC', 'TS_F_MDS_5_QC',\n",
       "       'NEE_VUT_REF', 'NEE_VUT_REF_QC', 'RECO_NT_VUT_REF', 'GPP_NT_VUT_REF',\n",
       "       'RECO_DT_VUT_REF', 'GPP_DT_VUT_REF', 'date', 'year'],\n",
       "      dtype='object')"
      ]
     },
     "execution_count": 33,
     "metadata": {},
     "output_type": "execute_result"
    }
   ],
   "source": [
    "df.columns"
   ]
  },
  {
   "cell_type": "code",
   "execution_count": 34,
   "id": "e759e6b5-9658-4a52-a6fd-79e9fe6b2870",
   "metadata": {},
   "outputs": [],
   "source": []
  },
  {
   "cell_type": "code",
   "execution_count": 35,
   "id": "1fc71b2d-f990-4e65-bda0-360d20b1303e",
   "metadata": {},
   "outputs": [],
   "source": []
  },
  {
   "cell_type": "code",
   "execution_count": 36,
   "id": "e43a4084-2e3b-43b9-b2e3-43b7d6beaa58",
   "metadata": {},
   "outputs": [
    {
     "data": {
      "text/plain": [
       "TA_F_MDS_QC\n",
       "0    17466\n",
       "1       53\n",
       "2       49\n",
       "Name: TA_F_MDS, dtype: int64"
      ]
     },
     "execution_count": 36,
     "metadata": {},
     "output_type": "execute_result"
    }
   ],
   "source": [
    "df.groupby('TA_F_MDS_QC').count()['TA_F_MDS']"
   ]
  },
  {
   "cell_type": "code",
   "execution_count": 90,
   "id": "ead0672b-ff6b-4128-bdc2-9f368e046c9b",
   "metadata": {},
   "outputs": [],
   "source": []
  },
  {
   "cell_type": "code",
   "execution_count": 81,
   "id": "0f246cfa-57fe-436b-b9db-8df3b946026b",
   "metadata": {},
   "outputs": [
    {
     "data": {
      "text/plain": [
       "<AxesSubplot:xlabel='date'>"
      ]
     },
     "execution_count": 81,
     "metadata": {},
     "output_type": "execute_result"
    },
    {
     "data": {
      "image/png": "[encoded data removed]",
      "text/plain": [
       "<Figure size 432x288 with 1 Axes>"
      ]
     },
     "metadata": {
      "needs_background": "light"
     },
     "output_type": "display_data"
    }
   ],
   "source": []
  },
  {
   "cell_type": "code",
   "execution_count": 91,
   "id": "f0c0ed12-fd1e-4cfe-bebb-59f37c37a0f7",
   "metadata": {},
   "outputs": [
    {
     "data": {
      "text/plain": [
       "2.5622553063610702"
      ]
     },
     "execution_count": 91,
     "metadata": {},
     "output_type": "execute_result"
    }
   ],
   "source": []
  },
  {
   "cell_type": "code",
   "execution_count": 79,
   "id": "2b7355ce-b323-42c7-bd4a-621d5a1479d6",
   "metadata": {},
   "outputs": [
    {
     "data": {
      "text/plain": [
       "6.5651522549754615"
      ]
     },
     "execution_count": 79,
     "metadata": {},
     "output_type": "execute_result"
    }
   ],
   "source": []
  },
  {
   "cell_type": "code",
   "execution_count": 83,
   "id": "23f65702-7549-4a08-98da-b23e10bf267a",
   "metadata": {},
   "outputs": [],
   "source": []
  },
  {
   "cell_type": "code",
   "execution_count": 84,
   "id": "940fefb9-a9bf-4708-9f14-aa16cbdba7f5",
   "metadata": {},
   "outputs": [
    {
     "name": "stdout",
     "output_type": "stream",
     "text": [
      "0.3845450572495727 1.0245811290238438\n"
     ]
    }
   ],
   "source": []
  },
  {
   "cell_type": "code",
   "execution_count": 86,
   "id": "1d5f4522-f352-4fdf-bb9f-958f36994fe2",
   "metadata": {},
   "outputs": [],
   "source": []
  },
  {
   "cell_type": "code",
   "execution_count": 95,
   "id": "50dd2fb0-a5a8-4b49-9156-98a9c00f3a28",
   "metadata": {},
   "outputs": [
    {
     "ename": "TypeError",
     "evalue": "'numpy.float64' object is not callable",
     "output_type": "error",
     "traceback": [
      "\u001b[0;31m---------------------------------------------------------------------------\u001b[0m",
      "\u001b[0;31mTypeError\u001b[0m                                 Traceback (most recent call last)",
      "\u001b[0;32m<ipython-input-95-e98750669db7>\u001b[0m in \u001b[0;36m<module>\u001b[0;34m\u001b[0m\n\u001b[1;32m      1\u001b[0m \u001b[0;31m# rmse_update = rmse(df_c['RECO_DT_VUT_REF'], pred_update)\u001b[0m\u001b[0;34m\u001b[0m\u001b[0;34m\u001b[0m\u001b[0;34m\u001b[0m\u001b[0m\n\u001b[0;32m----> 2\u001b[0;31m \u001b[0mrmse_update\u001b[0m \u001b[0;34m=\u001b[0m \u001b[0mrmse\u001b[0m\u001b[0;34m(\u001b[0m\u001b[0mdf_c\u001b[0m\u001b[0;34m[\u001b[0m\u001b[0;34m'RECO_DT_VUT_REF'\u001b[0m\u001b[0;34m]\u001b[0m\u001b[0;34m,\u001b[0m \u001b[0mpred_update\u001b[0m\u001b[0;34m)\u001b[0m\u001b[0;31m#df_c['RECO_Pred'])\u001b[0m\u001b[0;34m\u001b[0m\u001b[0;34m\u001b[0m\u001b[0m\n\u001b[0m\u001b[1;32m      3\u001b[0m \u001b[0;34m\u001b[0m\u001b[0m\n\u001b[1;32m      4\u001b[0m \u001b[0mrmse_update\u001b[0m\u001b[0;34m\u001b[0m\u001b[0;34m\u001b[0m\u001b[0m\n",
      "\u001b[0;31mTypeError\u001b[0m: 'numpy.float64' object is not callable"
     ]
    }
   ],
   "source": [
    "# rmse_update = rmse(df_c['RECO_DT_VUT_REF'], pred_update)\n"
   ]
  },
  {
   "cell_type": "code",
   "execution_count": 96,
   "id": "7ddb5b37-451a-42ae-bf4c-e14bd5aaea32",
   "metadata": {},
   "outputs": [
    {
     "name": "stdout",
     "output_type": "stream",
     "text": [
      "0.2 1.0 0.3845450572495727 1.0245811290238438\n"
     ]
    }
   ],
   "source": [
    "print(a,b,m,c)"
   ]
  }
 ],
 "metadata": {
  "kernelspec": {
   "display_name": "env_kernel",
   "language": "python",
   "name": "env_kernel"
  },
  "language_info": {
   "codemirror_mode": {
    "name": "ipython",
    "version": 3
   },
   "file_extension": ".py",
   "mimetype": "text/x-python",
   "name": "python",
   "nbconvert_exporter": "python",
   "pygments_lexer": "ipython3",
   "version": "3.7.11"
  }
 },
 "nbformat": 4,
 "nbformat_minor": 5
}
